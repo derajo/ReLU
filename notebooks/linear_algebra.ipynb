{
 "cells": [
  {
   "cell_type": "markdown",
   "metadata": {},
   "source": [
    "### Linear Algebra\n",
    "Linear algerba is a branch of mathematics essential for understanding and working with machine learning algorithms. Some key concepts from linear algebra useful for deep learning concepts include scalars, vectors, matrices, and tensors, multiplying matrices, identity and inverse matrices, linear dependence, span, norms, eigendecomposition, singular value decomposition, etc.\n",
    "\n",
    "In this notebook, I will code some of the more applied linear algebra techniques such as various types of norms, eigendeomposition, singular value decomposition, and principal component analysis. Many of these techniques have a prewritten numpy or other library function to compute them, but for learning purposes we will recreate them using some of the simpler numpy functionality.\n"
   ]
  },
  {
   "cell_type": "code",
   "execution_count": 1,
   "metadata": {},
   "outputs": [],
   "source": [
    "import numpy as np"
   ]
  },
  {
   "cell_type": "markdown",
   "metadata": {},
   "source": [
    "### Norms\n",
    "Norms are denoted as L<sup>p</sup> and include some of the following:\n",
    "* Euclidean (L<sup>2</sup>)\n",
    "* L<sup>1</sup>\n",
    "* Max norm\n",
    "* Frobenius norm\n",
    "\n",
    "#### Euclidean Norm and other L<sup>p</sup> norms\n",
    "Euclidean norm is the distance between the origin and point identified as x, denoted as L<sup>2</sup>. The L<sup>2</sup> norm is very common and often referred to as ||x||. It is also common to measure the size of a vector using the squared L<sup>2</sup> norm, which is also just x<sup>T</sup>x."
   ]
  },
  {
   "cell_type": "code",
   "execution_count": 41,
   "metadata": {},
   "outputs": [
    {
     "name": "stdout",
     "output_type": "stream",
     "text": [
      "L2 norm has size of 5.543464620614079\n"
     ]
    }
   ],
   "source": [
    "x = np.array([2.5,-4.8,1.2])\n",
    "p = 2\n",
    "norm = sum(abs(x)**p)**(1/p)\n",
    "print(f\"L{p} norm has size of {norm}\")"
   ]
  },
  {
   "cell_type": "markdown",
   "metadata": {},
   "source": [
    "Functionalize the Norm calculation"
   ]
  },
  {
   "cell_type": "code",
   "execution_count": 56,
   "metadata": {},
   "outputs": [
    {
     "name": "stdout",
     "output_type": "stream",
     "text": [
      "5.543464620614079\n"
     ]
    }
   ],
   "source": [
    "def norm(x,p=2):\n",
    "    assert p >=1, \"p must be greater than or equal to 1\"\n",
    "    \n",
    "    return np.sum(abs(x)**p)**(1/p)\n",
    "\n",
    "print(norm(x))"
   ]
  },
  {
   "cell_type": "markdown",
   "metadata": {},
   "source": [
    "Three ways to calculate squared L<sup>2</sup> norm shown below"
   ]
  },
  {
   "cell_type": "code",
   "execution_count": 43,
   "metadata": {},
   "outputs": [
    {
     "name": "stdout",
     "output_type": "stream",
     "text": [
      "30.73\n",
      "30.73\n",
      "30.73\n"
     ]
    }
   ],
   "source": [
    "print(norm(x)**2)\n",
    "print(x.T.dot(x))\n",
    "print(sum(x.T*x))"
   ]
  },
  {
   "cell_type": "markdown",
   "metadata": {},
   "source": [
    "#### Max Norm\n",
    "Simplifies to the absolute value of the element with the largest magnitude of the vector."
   ]
  },
  {
   "cell_type": "code",
   "execution_count": 44,
   "metadata": {},
   "outputs": [
    {
     "name": "stdout",
     "output_type": "stream",
     "text": [
      "The Max norm of the vector [ 2.5 -4.8  1.2] is 4.8\n"
     ]
    }
   ],
   "source": [
    "x = np.array([2.5,-4.8,1.2])\n",
    "\n",
    "print(f\"The Max norm of the vector {x} is {max(abs(x))}\")\n",
    "\n"
   ]
  },
  {
   "cell_type": "markdown",
   "metadata": {},
   "source": [
    "#### Frobenius Norm\n",
    "Most common way to measure the size of a matrix in the context of deep learning is with the Frobenius norm, which is anagolous to the L<sup>2</sup> norm of a vector."
   ]
  },
  {
   "cell_type": "code",
   "execution_count": 59,
   "metadata": {},
   "outputs": [
    {
     "data": {
      "text/plain": [
       "11.58792474949678"
      ]
     },
     "execution_count": 59,
     "metadata": {},
     "output_type": "execute_result"
    }
   ],
   "source": [
    "A = np.array([[6.7,-8.1],[-2.3,4.3]])\n",
    "sum(sum(A**p))**(1/2)"
   ]
  },
  {
   "cell_type": "code",
   "execution_count": 60,
   "metadata": {},
   "outputs": [
    {
     "data": {
      "text/plain": [
       "11.58792474949678"
      ]
     },
     "execution_count": 60,
     "metadata": {},
     "output_type": "execute_result"
    }
   ],
   "source": [
    "norm(A)"
   ]
  },
  {
   "cell_type": "code",
   "execution_count": null,
   "metadata": {},
   "outputs": [],
   "source": []
  },
  {
   "cell_type": "code",
   "execution_count": 62,
   "metadata": {},
   "outputs": [],
   "source": [
    "x = np.array([2.5,-4.8,1.2])\n",
    "y = np.array([6.7,-8.1,0.5])"
   ]
  },
  {
   "cell_type": "code",
   "execution_count": 67,
   "metadata": {},
   "outputs": [
    {
     "data": {
      "text/plain": [
       "0.9638621714867739"
      ]
     },
     "execution_count": 67,
     "metadata": {},
     "output_type": "execute_result"
    }
   ],
   "source": [
    "sum(x.T*y)/(norm(x)*norm(y))"
   ]
  }
 ],
 "metadata": {
  "kernelspec": {
   "display_name": "Python 3",
   "language": "python",
   "name": "python3"
  },
  "language_info": {
   "codemirror_mode": {
    "name": "ipython",
    "version": 3
   },
   "file_extension": ".py",
   "mimetype": "text/x-python",
   "name": "python",
   "nbconvert_exporter": "python",
   "pygments_lexer": "ipython3",
   "version": "3.7.7"
  }
 },
 "nbformat": 4,
 "nbformat_minor": 2
}
